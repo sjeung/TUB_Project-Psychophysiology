{
 "cells": [
  {
   "cell_type": "code",
   "execution_count": 5,
   "id": "aa09c936-87e3-40fd-b7bd-5897a36e1ee2",
   "metadata": {},
   "outputs": [],
   "source": [
    "import pyxdf\n",
    "import matplotlib.pyplot as plt\n",
    "import numpy as np\n",
    "import os"
   ]
  },
  {
   "cell_type": "code",
   "execution_count": 3,
   "id": "cb004cf5-182a-4c13-bda6-961c10c45af2",
   "metadata": {},
   "outputs": [],
   "source": [
    "def xdf2csv(inputName, outputNameEMG, outputNameECG):\n",
    "    # Load xdf data\n",
    "    data, header = pyxdf.load_xdf(inputName)\n",
    "    \n",
    "    # Check for numeric data before accessing\n",
    "    if 'time_series' in data[0] and 'time_stamps' in data[0]:\n",
    "        emg   = data[0]['time_series'][:,1]\n",
    "        ecg   = data[0]['time_series'][:,2]\n",
    "        times = data[0]['time_stamps']\n",
    "    \n",
    "        # Save numeric data to a CSV file\n",
    "        output_file_folder = 'C:/Users/seinj/Teaching/Recordings_2023_EMG-ECG/csv-data'\n",
    "        emg_output_file_name = outputNameEMG\n",
    "        ecg_output_file_name = outputNameECG\n",
    "        emg_output_file_path = output_file_folder + '/' + emg_output_file_name\n",
    "        ecg_output_file_path = output_file_folder + '/' + ecg_output_file_name\n",
    "        \n",
    "        os.makedirs(output_file_folder, exist_ok=True)    \n",
    "        np.savetxt(emg_output_file_path, emg, delimiter=',', header='EMG Data', comments='')\n",
    "        np.savetxt(ecg_output_file_path, ecg, delimiter=',', header='ECG Data', comments='')\n",
    "        \n",
    "        print(f\"EMG and ECG data saved to: {output_file_folder}\")\n",
    "    \n",
    "    else:\n",
    "        print(\"The selected stream does not contain numeric data.\")\n",
    "    "
   ]
  },
  {
   "cell_type": "code",
   "execution_count": 6,
   "id": "7bd9e30d-3b62-414f-b9dd-e43c6584b91a",
   "metadata": {},
   "outputs": [
    {
     "name": "stdout",
     "output_type": "stream",
     "text": [
      "EMG and ECG data saved to: C:/Users/seinj/Teaching/Recordings_2023_EMG-ECG/csv-data\n"
     ]
    }
   ],
   "source": [
    "xdf2csv('C:/Users/seinj/Teaching/Recordings_2023_EMG-ECG/source-data/pb_04_base1.xdf', 'test_emg.csv', 'test_ecg.csv')"
   ]
  },
  {
   "cell_type": "code",
   "execution_count": null,
   "id": "1fb22069-62e6-4120-b407-18713e00f3df",
   "metadata": {},
   "outputs": [],
   "source": []
  }
 ],
 "metadata": {
  "kernelspec": {
   "display_name": "Python 3 (ipykernel)",
   "language": "python",
   "name": "python3"
  },
  "language_info": {
   "codemirror_mode": {
    "name": "ipython",
    "version": 3
   },
   "file_extension": ".py",
   "mimetype": "text/x-python",
   "name": "python",
   "nbconvert_exporter": "python",
   "pygments_lexer": "ipython3",
   "version": "3.12.0"
  }
 },
 "nbformat": 4,
 "nbformat_minor": 5
}
