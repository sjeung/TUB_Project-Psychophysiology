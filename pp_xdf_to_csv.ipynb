{
 "cells": [
  {
   "cell_type": "code",
   "execution_count": 6,
   "id": "aa09c936-87e3-40fd-b7bd-5897a36e1ee2",
   "metadata": {},
   "outputs": [],
   "source": [
    "import pyxdf\n",
    "import matplotlib.pyplot as plt\n",
    "import numpy as np\n",
    "import os"
   ]
  },
  {
   "cell_type": "code",
   "execution_count": 11,
   "id": "cb004cf5-182a-4c13-bda6-961c10c45af2",
   "metadata": {},
   "outputs": [],
   "source": [
    "def xdf2csv(inputName, outputNameEMG, outputNameECG):\n",
    "    # Load xdf data\n",
    "    data, header = pyxdf.load_xdf(inputName)\n",
    "    \n",
    "    # Check for numeric data before accessing\n",
    "    if 'time_series' in data[0] and 'time_stamps' in data[0]:\n",
    "        emg   = data[0]['time_series'][:,1]\n",
    "        ecg   = data[0]['time_series'][:,2]\n",
    "        times = data[0]['time_stamps']\n",
    "    \n",
    "        # Save numeric data to a CSV file\n",
    "        # replace this with your own data directory\n",
    "        output_file_folder = 'C:/Users/seinj/Teaching/Recordings_2023_EMG-ECG/csv-data'\n",
    "        emg_output_file_name = outputNameEMG\n",
    "        ecg_output_file_name = outputNameECG\n",
    "        emg_output_file_path = output_file_folder + '/' + emg_output_file_name\n",
    "        ecg_output_file_path = output_file_folder + '/' + ecg_output_file_name\n",
    "        \n",
    "        os.makedirs(output_file_folder, exist_ok=True)    \n",
    "        np.savetxt(emg_output_file_path, emg, delimiter=',', header='EMG Data', comments='')\n",
    "        np.savetxt(ecg_output_file_path, ecg, delimiter=',', header='ECG Data', comments='')\n",
    "        \n",
    "        print(f\"EMG and ECG data from {inputName} saved to: {output_file_folder}\")\n",
    "    \n",
    "    else:\n",
    "        print(\"The selected stream does not contain numeric data.\")\n",
    "    "
   ]
  },
  {
   "cell_type": "code",
   "execution_count": 12,
   "id": "fd5c34f1-e9b2-45e3-939b-e9ce8024380f",
   "metadata": {},
   "outputs": [],
   "source": [
    "# replace this with your own data directory\n",
    "xdfDir = 'C:/Users/seinj/Teaching/Recordings_2023_EMG-ECG/source-data/'"
   ]
  },
  {
   "cell_type": "code",
   "execution_count": 13,
   "id": "7bd9e30d-3b62-414f-b9dd-e43c6584b91a",
   "metadata": {},
   "outputs": [
    {
     "name": "stdout",
     "output_type": "stream",
     "text": [
      "EMG and ECG data from C:/Users/seinj/Teaching/Recordings_2023_EMG-ECG/source-data/pb_04_base1.xdf saved to: C:/Users/seinj/Teaching/Recordings_2023_EMG-ECG/csv-data\n",
      "EMG and ECG data from C:/Users/seinj/Teaching/Recordings_2023_EMG-ECG/source-data/pb_04_base2.xdf saved to: C:/Users/seinj/Teaching/Recordings_2023_EMG-ECG/csv-data\n",
      "EMG and ECG data from C:/Users/seinj/Teaching/Recordings_2023_EMG-ECG/source-data/pb_04_elevated.xdf saved to: C:/Users/seinj/Teaching/Recordings_2023_EMG-ECG/csv-data\n",
      "EMG and ECG data from C:/Users/seinj/Teaching/Recordings_2023_EMG-ECG/source-data/pb_04_elevated.xdf saved to: C:/Users/seinj/Teaching/Recordings_2023_EMG-ECG/csv-data\n",
      "EMG and ECG data from C:/Users/seinj/Teaching/Recordings_2023_EMG-ECG/source-data/pb_05_base1.xdf saved to: C:/Users/seinj/Teaching/Recordings_2023_EMG-ECG/csv-data\n",
      "EMG and ECG data from C:/Users/seinj/Teaching/Recordings_2023_EMG-ECG/source-data/pb_05_base2.xdf saved to: C:/Users/seinj/Teaching/Recordings_2023_EMG-ECG/csv-data\n",
      "EMG and ECG data from C:/Users/seinj/Teaching/Recordings_2023_EMG-ECG/source-data/pb_05_elevated.xdf saved to: C:/Users/seinj/Teaching/Recordings_2023_EMG-ECG/csv-data\n",
      "EMG and ECG data from C:/Users/seinj/Teaching/Recordings_2023_EMG-ECG/source-data/pb_05_elevated.xdf saved to: C:/Users/seinj/Teaching/Recordings_2023_EMG-ECG/csv-data\n",
      "EMG and ECG data from C:/Users/seinj/Teaching/Recordings_2023_EMG-ECG/source-data/pb_06_base1.xdf saved to: C:/Users/seinj/Teaching/Recordings_2023_EMG-ECG/csv-data\n",
      "EMG and ECG data from C:/Users/seinj/Teaching/Recordings_2023_EMG-ECG/source-data/pb_06_base2.xdf saved to: C:/Users/seinj/Teaching/Recordings_2023_EMG-ECG/csv-data\n",
      "EMG and ECG data from C:/Users/seinj/Teaching/Recordings_2023_EMG-ECG/source-data/pb_06_elevated.xdf saved to: C:/Users/seinj/Teaching/Recordings_2023_EMG-ECG/csv-data\n",
      "EMG and ECG data from C:/Users/seinj/Teaching/Recordings_2023_EMG-ECG/source-data/pb_06_elevated.xdf saved to: C:/Users/seinj/Teaching/Recordings_2023_EMG-ECG/csv-data\n"
     ]
    }
   ],
   "source": [
    "xdf2csv(xdfDir + 'pb_04_base1.xdf', 'pb_04_base1_emg.csv', 'pb_04_base1_ecg.csv')\n",
    "xdf2csv(xdfDir + 'pb_04_base2.xdf', 'pb_04_base2_emg.csv', 'pb_04_base2_ecg.csv')\n",
    "xdf2csv(xdfDir + 'pb_04_elevated.xdf', 'pb_04_ground_emg.csv', 'pb_04_ground_ecg.csv')\n",
    "xdf2csv(xdfDir + 'pb_04_elevated.xdf', 'pb_04_elevated_emg.csv', 'pb_04_elevated_ecg.csv')\n",
    "\n",
    "xdf2csv(xdfDir + 'pb_05_base1.xdf', 'pb_05_base1_emg.csv', 'pb_05_base1_ecg.csv')\n",
    "xdf2csv(xdfDir + 'pb_05_base2.xdf', 'pb_05_base2_emg.csv', 'pb_05_base2_ecg.csv')\n",
    "xdf2csv(xdfDir + 'pb_05_elevated.xdf', 'pb_05_ground_emg.csv', 'pb_05_ground_ecg.csv')\n",
    "xdf2csv(xdfDir + 'pb_05_elevated.xdf', 'pb_05_elevated_emg.csv', 'pb_05_elevated_ecg.csv')\n",
    "\n",
    "xdf2csv(xdfDir + 'pb_06_base1.xdf', 'pb_06_base1_emg.csv', 'pb_06_base1_ecg.csv')\n",
    "xdf2csv(xdfDir + 'pb_06_base2.xdf', 'pb_06_base2_emg.csv', 'pb_06_base2_ecg.csv')\n",
    "xdf2csv(xdfDir + 'pb_06_elevated.xdf', 'pb_06_ground_emg.csv', 'pb_06_ground_ecg.csv')\n",
    "xdf2csv(xdfDir + 'pb_06_elevated.xdf', 'pb_06_elevated_emg.csv', 'pb_06_elevated_ecg.csv')\n"
   ]
  },
  {
   "cell_type": "code",
   "execution_count": null,
   "id": "1fb22069-62e6-4120-b407-18713e00f3df",
   "metadata": {},
   "outputs": [],
   "source": []
  }
 ],
 "metadata": {
  "kernelspec": {
   "display_name": "Python 3 (ipykernel)",
   "language": "python",
   "name": "python3"
  },
  "language_info": {
   "codemirror_mode": {
    "name": "ipython",
    "version": 3
   },
   "file_extension": ".py",
   "mimetype": "text/x-python",
   "name": "python",
   "nbconvert_exporter": "python",
   "pygments_lexer": "ipython3",
   "version": "3.12.0"
  }
 },
 "nbformat": 4,
 "nbformat_minor": 5
}
